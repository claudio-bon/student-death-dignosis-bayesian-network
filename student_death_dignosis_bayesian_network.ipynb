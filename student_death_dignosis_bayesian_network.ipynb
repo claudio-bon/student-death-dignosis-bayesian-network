{
  "nbformat": 4,
  "nbformat_minor": 0,
  "metadata": {
    "kernelspec": {
      "display_name": "Python 3",
      "language": "python",
      "name": "python3"
    },
    "language_info": {
      "codemirror_mode": {
        "name": "ipython",
        "version": 3
      },
      "file_extension": ".py",
      "mimetype": "text/x-python",
      "name": "python",
      "nbconvert_exporter": "python",
      "pygments_lexer": "ipython3",
      "version": "3.7.7"
    },
    "colab": {
      "name": "student_death_dignosis_bayesian_network.ipynb",
      "provenance": [],
      "collapsed_sections": [],
      "include_colab_link": true
    }
  },
  "cells": [
    {
      "cell_type": "markdown",
      "metadata": {
        "id": "view-in-github",
        "colab_type": "text"
      },
      "source": [
        "<a href=\"https://colab.research.google.com/github/claudio-bon/student-death-dignosis-bayesian-network/blob/main/student_death_dignosis_bayesian_network.ipynb\" target=\"_parent\"><img src=\"https://colab.research.google.com/assets/colab-badge.svg\" alt=\"Open In Colab\"/></a>"
      ]
    },
    {
      "cell_type": "markdown",
      "metadata": {
        "id": "vwl8IaT-4Gqr"
      },
      "source": [
        "# Project\n",
        "Author: Claudio Bonetta"
      ]
    },
    {
      "cell_type": "markdown",
      "metadata": {
        "id": "McUtJDc54Gqz"
      },
      "source": [
        "Following is the graphical representation of the Bayesian Network that will be used for this project:<br>\n",
        "![](https://drive.google.com/uc?export=view&id=1KxTcI-FddBTJhpijdZtpvAWmqbQnO8mA)"
      ]
    },
    {
      "cell_type": "markdown",
      "metadata": {
        "id": "g3haYRNe4Gq0"
      },
      "source": [
        "# Bayesian Network's Definition"
      ]
    },
    {
      "cell_type": "code",
      "metadata": {
        "colab": {
          "base_uri": "https://localhost:8080/"
        },
        "id": "cI49A8jK65oh",
        "outputId": "db47cd07-2051-4262-f4b9-90e630fc289a"
      },
      "source": [
        "!pip install pgmpy==0.1.10"
      ],
      "execution_count": 1,
      "outputs": [
        {
          "output_type": "stream",
          "name": "stdout",
          "text": [
            "Collecting pgmpy==0.1.10\n",
            "  Downloading pgmpy-0.1.10-py3-none-any.whl (339 kB)\n",
            "\u001b[K     |████████████████████████████████| 339 kB 5.0 MB/s \n",
            "\u001b[?25hRequirement already satisfied: networkx in /usr/local/lib/python3.7/dist-packages (from pgmpy==0.1.10) (2.6.3)\n",
            "Requirement already satisfied: joblib in /usr/local/lib/python3.7/dist-packages (from pgmpy==0.1.10) (1.0.1)\n",
            "Requirement already satisfied: tqdm in /usr/local/lib/python3.7/dist-packages (from pgmpy==0.1.10) (4.62.3)\n",
            "Requirement already satisfied: scipy in /usr/local/lib/python3.7/dist-packages (from pgmpy==0.1.10) (1.4.1)\n",
            "Requirement already satisfied: pyparsing in /usr/local/lib/python3.7/dist-packages (from pgmpy==0.1.10) (2.4.7)\n",
            "Requirement already satisfied: pandas in /usr/local/lib/python3.7/dist-packages (from pgmpy==0.1.10) (1.1.5)\n",
            "Requirement already satisfied: numpy in /usr/local/lib/python3.7/dist-packages (from pgmpy==0.1.10) (1.19.5)\n",
            "Requirement already satisfied: statsmodels in /usr/local/lib/python3.7/dist-packages (from pgmpy==0.1.10) (0.10.2)\n",
            "Requirement already satisfied: torch in /usr/local/lib/python3.7/dist-packages (from pgmpy==0.1.10) (1.9.0+cu102)\n",
            "Requirement already satisfied: pytz>=2017.2 in /usr/local/lib/python3.7/dist-packages (from pandas->pgmpy==0.1.10) (2018.9)\n",
            "Requirement already satisfied: python-dateutil>=2.7.3 in /usr/local/lib/python3.7/dist-packages (from pandas->pgmpy==0.1.10) (2.8.2)\n",
            "Requirement already satisfied: six>=1.5 in /usr/local/lib/python3.7/dist-packages (from python-dateutil>=2.7.3->pandas->pgmpy==0.1.10) (1.15.0)\n",
            "Requirement already satisfied: patsy>=0.4.0 in /usr/local/lib/python3.7/dist-packages (from statsmodels->pgmpy==0.1.10) (0.5.1)\n",
            "Requirement already satisfied: typing-extensions in /usr/local/lib/python3.7/dist-packages (from torch->pgmpy==0.1.10) (3.7.4.3)\n",
            "Installing collected packages: pgmpy\n",
            "Successfully installed pgmpy-0.1.10\n"
          ]
        }
      ]
    },
    {
      "cell_type": "markdown",
      "metadata": {
        "id": "w-5ON1oP4Gq3"
      },
      "source": [
        "Now it will be defined the network's structure (which is shaped as a directed graph)."
      ]
    },
    {
      "cell_type": "code",
      "metadata": {
        "id": "2GTZELAY4Gq5"
      },
      "source": [
        "from pgmpy.models import BayesianModel\n",
        "\n",
        "model = BayesianModel([\n",
        "    ('Break Up', 'Emotional Shock'),\n",
        "    ('Relative Lost', 'Emotional Shock'),\n",
        "    ('Emotional Shock', 'Depression'),\n",
        "    ('No Friends & Family', 'Depression'),\n",
        "    ('Financial Problem', 'Chronic Stress'),\n",
        "    ('Work/Study Pressure', 'Chronic Stress'),\n",
        "    ('Chronic Stress', 'Insomnia'),\n",
        "    ('Serious Ilness', 'Prior Stroke'),\n",
        "    ('Depression', 'Suicide'),\n",
        "    ('Chronic Stress', 'Suicide'),\n",
        "    ('Prior Stroke', 'Suicide')])"
      ],
      "execution_count": 2,
      "outputs": []
    },
    {
      "cell_type": "markdown",
      "metadata": {
        "id": "pp3f2Z1x4Gq7"
      },
      "source": [
        "Through the library <code>networkx</code> it's checked the correctness of the above definition of the Bayesian Network."
      ]
    },
    {
      "cell_type": "code",
      "metadata": {
        "colab": {
          "base_uri": "https://localhost:8080/",
          "height": 535
        },
        "id": "4ifJd4Wa4Gq8",
        "outputId": "56e60d2a-ed7c-4b60-dc43-08d01c4ad5f0"
      },
      "source": [
        "import matplotlib.pyplot as plt\n",
        "import networkx as nx\n",
        "import pydot\n",
        "from networkx.drawing.nx_pydot import graphviz_layout\n",
        "\n",
        "plt.figure(figsize=(9,7))\n",
        "pos = graphviz_layout(model, prog=\"dot\")\n",
        "nx.draw(model, pos, with_labels=True, arrowsize=20, node_size=3500, font_color='k', font_size=12)\n",
        "plt.show()"
      ],
      "execution_count": 3,
      "outputs": [
        {
          "output_type": "display_data",
          "data": {
            "image/png": "[encoded data removed]",
            "text/plain": [
              "<Figure size 648x504 with 1 Axes>"
            ]
          },
          "metadata": {}
        }
      ]
    },
    {
      "cell_type": "markdown",
      "metadata": {
        "id": "hT4mkeDp4Gq-"
      },
      "source": [
        "Below are defined the **Conditional Probability Distribution** tables (**CPD** tables)."
      ]
    },
    {
      "cell_type": "code",
      "metadata": {
        "id": "Eer5i2GP4Gq_"
      },
      "source": [
        "from pgmpy.factors.discrete import TabularCPD\n",
        "\n",
        "\n",
        "cpd_bu = TabularCPD(variable='Break Up', variable_card=2,\n",
        "                        values=[[0.8], [0.2]])\n",
        "\n",
        "cpd_rl = TabularCPD(variable='Relative Lost', variable_card=2,\n",
        "                        values=[[0.9], [0.1]])\n",
        "\n",
        "cpd_es = TabularCPD(variable='Emotional Shock', variable_card=2,\n",
        "                        values=[[0.95, 0.4, 0.6, 0.15],\n",
        "                                [0.05, 0.6, 0.4, 0.85]],\n",
        "                        evidence=['Break Up', 'Relative Lost'],\n",
        "                        evidence_card=[2, 2])\n",
        "\n",
        "cpd_nff = TabularCPD(variable='No Friends & Family', variable_card=2,\n",
        "                        values=[[0.5], [0.5]])\n",
        "\n",
        "cpd_dep = TabularCPD(variable='Depression', variable_card=2,\n",
        "                        values=[[0.9, 0.2, 0.25, 0.02],\n",
        "                                [0.1, 0.8, 0.75, 0.98]],\n",
        "                        evidence=['Emotional Shock', 'No Friends & Family'],\n",
        "                        evidence_card=[2, 2])\n",
        "\n",
        "cpd_fnp = TabularCPD(variable='Financial Problem', variable_card=2,\n",
        "                        values=[[0.7], [0.3]])\n",
        "\n",
        "cpd_wsp = TabularCPD(variable='Work/Study Pressure', variable_card=2,\n",
        "                        values=[[0.7], [0.3]])\n",
        "\n",
        "cpd_cst = TabularCPD(variable='Chronic Stress', variable_card=2,\n",
        "                        values=[[0.9, 0.4, 0.2, 0.05],\n",
        "                                [0.1, 0.6, 0.8, 0.95]],\n",
        "                        evidence=['Financial Problem', 'Work/Study Pressure'],\n",
        "                        evidence_card=[2, 2])\n",
        "\n",
        "cpd_ins = TabularCPD(variable='Insomnia', variable_card=2,\n",
        "                      values=[[0.97, 0.05], [0.03, 0.95]],\n",
        "                      evidence=['Chronic Stress'], evidence_card=[2])\n",
        "\n",
        "cpd_sil = TabularCPD(variable='Serious Ilness', variable_card=2,\n",
        "                        values=[[0.8], [0.2]])\n",
        "\n",
        "cpd_ps = TabularCPD(variable='Prior Stroke', variable_card=2,\n",
        "                      values=[[0.8, 0.05], [0.2, 0.95]],\n",
        "                      evidence=['Serious Ilness'], evidence_card=[2])\n",
        "\n",
        "cpd_su = TabularCPD(variable='Suicide', variable_card=2,\n",
        "                        values=[[0.95, 0.98, 0.6, 0.7, 0.25, 0.35, 0.05, 0.2],\n",
        "                                [0.05, 0.02, 0.4, 0.3, 0.75, 0.65, 0.95, 0.8]],\n",
        "                        evidence=['Depression', 'Chronic Stress', 'Prior Stroke'],\n",
        "                        evidence_card=[2, 2, 2])"
      ],
      "execution_count": 4,
      "outputs": []
    },
    {
      "cell_type": "markdown",
      "metadata": {
        "id": "LfoSb3OG4GrB"
      },
      "source": [
        "Add the CDPs to the model."
      ]
    },
    {
      "cell_type": "code",
      "metadata": {
        "id": "vYtBM8J44GrC"
      },
      "source": [
        "model.add_cpds(cpd_bu, cpd_rl, cpd_es, cpd_nff, cpd_dep, cpd_fnp, cpd_wsp, cpd_cst, cpd_ins, cpd_sil, cpd_ps, cpd_su)"
      ],
      "execution_count": 5,
      "outputs": []
    },
    {
      "cell_type": "markdown",
      "metadata": {
        "id": "xAGRzwdW4GrD"
      },
      "source": [
        "In order to assert that the above definition of the Bayesian Network is correctly given, it's possible to peform a check."
      ]
    },
    {
      "cell_type": "code",
      "metadata": {
        "colab": {
          "base_uri": "https://localhost:8080/"
        },
        "id": "UxwjmEfR4GrD",
        "outputId": "4934cc48-38c4-4bac-ce4c-91127f20f173"
      },
      "source": [
        "model.check_model()"
      ],
      "execution_count": 6,
      "outputs": [
        {
          "output_type": "execute_result",
          "data": {
            "text/plain": [
              "True"
            ]
          },
          "metadata": {},
          "execution_count": 6
        }
      ]
    },
    {
      "cell_type": "markdown",
      "metadata": {
        "id": "QIxj3z_74GrE"
      },
      "source": [
        "pgmpy allow also to print out CDPs.<br>\n",
        "Let's do so in order to check the correct definition of a CDP."
      ]
    },
    {
      "cell_type": "code",
      "metadata": {
        "colab": {
          "base_uri": "https://localhost:8080/"
        },
        "id": "Mby1eSph4GrF",
        "outputId": "fcff51e1-c1fc-4840-e438-eb65264888fa"
      },
      "source": [
        "print(model.get_cpds('Depression'))"
      ],
      "execution_count": 7,
      "outputs": [
        {
          "output_type": "stream",
          "name": "stdout",
          "text": [
            "+---------------------+------------------------+------------------------+------------------------+------------------------+\n",
            "| Emotional Shock     | Emotional Shock(0)     | Emotional Shock(0)     | Emotional Shock(1)     | Emotional Shock(1)     |\n",
            "+---------------------+------------------------+------------------------+------------------------+------------------------+\n",
            "| No Friends & Family | No Friends & Family(0) | No Friends & Family(1) | No Friends & Family(0) | No Friends & Family(1) |\n",
            "+---------------------+------------------------+------------------------+------------------------+------------------------+\n",
            "| Depression(0)       | 0.9                    | 0.2                    | 0.25                   | 0.02                   |\n",
            "+---------------------+------------------------+------------------------+------------------------+------------------------+\n",
            "| Depression(1)       | 0.1                    | 0.8                    | 0.75                   | 0.98                   |\n",
            "+---------------------+------------------------+------------------------+------------------------+------------------------+\n"
          ]
        }
      ]
    },
    {
      "cell_type": "markdown",
      "metadata": {
        "id": "0RenxzYm4GrF"
      },
      "source": [
        "# Full Joint Distribution\n",
        "\n",
        "In the following section it will be defined the function that computes the full joint distribution of the BN.<br>\n",
        "The function defined below follows the definition:<br>\n",
        "$ P(x_1,..., x_n) = \\prod \\limits _{i=1} ^{n} P(x_i|parents(X_i))$"
      ]
    },
    {
      "cell_type": "code",
      "metadata": {
        "id": "xWUWmFXn4GrG"
      },
      "source": [
        "def full_joint_distr(model, rvs):\n",
        "    cpds = model.get_cpds()\n",
        "    \n",
        "    for cpd in cpds:\n",
        "        if cpd.variable not in rvs:\n",
        "            raise ValueError()\n",
        "        if not isinstance(rvs[cpd.variable], int):\n",
        "            raise ValueError()\n",
        "            \n",
        "    FJD = 1\n",
        "    for cpd in cpds:\n",
        "        val = cpd.values\n",
        "        for variable in cpd.variables:\n",
        "            val = val[rvs[variable]]\n",
        "        FJD *= val\n",
        "    return FJD"
      ],
      "execution_count": 8,
      "outputs": []
    },
    {
      "cell_type": "code",
      "metadata": {
        "colab": {
          "base_uri": "https://localhost:8080/"
        },
        "id": "B_AfK7gj4GrH",
        "outputId": "5f120f2b-b676-4743-8177-2fecdea0ad92"
      },
      "source": [
        "full_joint_distr(model, {'Break Up':1,\n",
        "                         'Relative Lost':1,\n",
        "                         'Emotional Shock':1,\n",
        "                         'No Friends & Family':1,\n",
        "                         'Depression':1,\n",
        "                         'Financial Problem':1,\n",
        "                         'Work/Study Pressure':1,\n",
        "                         'Chronic Stress':1,\n",
        "                         'Insomnia':1,\n",
        "                         'Serious Ilness':0,\n",
        "                         'Prior Stroke':0,\n",
        "                         'Suicide':1,\n",
        "                        })"
      ],
      "execution_count": 9,
      "outputs": [
        {
          "output_type": "execute_result",
          "data": {
            "text/plain": [
              "0.00041137538399999994"
            ]
          },
          "metadata": {},
          "execution_count": 9
        }
      ]
    },
    {
      "cell_type": "markdown",
      "metadata": {
        "id": "rcuzEATO4GrI"
      },
      "source": [
        "The previous result is verifiable in the following way:<br>\n",
        "\n",
        "$\n",
        "P(x_1,..., x_n) = \\prod \\limits _{i=1} ^{n} P(x_i|parents(X_i)) = \\\\\n",
        "P(Suicide=1\\ |\\ Depression=1,\\ Chronic\\ Stress=1,\\ Prior\\ Stroke=0) \\\\ \\cdot\n",
        "P(Depression=1\\ |\\ Emotional\\ Shock=1,\\ No\\ Friends\\ \\&\\ Family=1)\\cdot\n",
        "P(No\\ Friends\\ \\&\\ Family=1)\\cdot\n",
        "P(Emotional\\ Shock=1\\ |\\ Break\\ Up=1,\\ Relative\\ Lost=1)\\cdot\n",
        "P(Break\\ Up=1)\\cdot\n",
        "P(Relative\\ Lost=1)\\cdot\n",
        "P(Insomnia=1\\ |\\ Chronic\\ Stress=1)\\cdot\n",
        "P(Chronic\\ Stress=1\\ |\\ Financial\\ Problem=1,\\ Work/Study\\ Pressure=1)\\cdot\n",
        "P(Financial\\ Problem=1)\\cdot\n",
        "P(Work/Study\\ Pressure=1)\\cdot\n",
        "P(Prior\\ Stroke=0\\ |\\ Serious\\ Illness=0)\\cdot\n",
        "P(Serious\\ Illness=0)\\ = \\\\\n",
        "0.95\\cdot\n",
        "0.98\\cdot\n",
        "0.5\\cdot\n",
        "0.95\\cdot\n",
        "0.85\\cdot\n",
        "0.2\\cdot\n",
        "0.1\\cdot\n",
        "0.95\\cdot\n",
        "0.3\\cdot\n",
        "0.3\\cdot\n",
        "0.8\\cdot\n",
        "0.8 = \\\\\n",
        "0.000411375384\n",
        "$\n",
        "<br>\n",
        "<br>And indeed the results are equivalent."
      ]
    },
    {
      "cell_type": "markdown",
      "metadata": {
        "id": "psRklPLM4GrJ"
      },
      "source": [
        "# Active Trail\n",
        "\n",
        "The following queries will show the presence of active trails between two nodes of the BN."
      ]
    },
    {
      "cell_type": "markdown",
      "metadata": {
        "id": "7BiLNOtr4GrJ"
      },
      "source": [
        "First it is shown the presence of an active trail."
      ]
    },
    {
      "cell_type": "code",
      "metadata": {
        "colab": {
          "base_uri": "https://localhost:8080/"
        },
        "id": "p3WecW_B4GrJ",
        "outputId": "d246c4f7-0e3b-4659-a412-ce54a308a859"
      },
      "source": [
        "cdp_act1 = 'Insomnia'\n",
        "cdp_act2 = 'Financial Problem'\n",
        "\n",
        "answer = {True:'Yes', False:'No'}\n",
        "print('Is there an active trail between {} and {}?\\n{}'.format(cdp_act1,\n",
        "                                                               cdp_act2,\n",
        "                                                               answer[model.is_active_trail(cdp_act1, cdp_act2)]))"
      ],
      "execution_count": 10,
      "outputs": [
        {
          "output_type": "stream",
          "name": "stdout",
          "text": [
            "Is there an active trail between Insomnia and Financial Problem?\n",
            "Yes\n"
          ]
        }
      ]
    },
    {
      "cell_type": "markdown",
      "metadata": {
        "id": "rfLP3OBL4GrK"
      },
      "source": [
        "And the result on the BN itself:<br>\n",
        "![](https://drive.google.com/uc?export=view&id=10hoJMIs3dBxdgGIkTZUmiqW0L-X99HR8)"
      ]
    },
    {
      "cell_type": "markdown",
      "metadata": {
        "id": "ku5Barb-4GrK"
      },
      "source": [
        "In particular the link connecting Insomnia and Financial Problem can be said to be an evidential trail."
      ]
    },
    {
      "cell_type": "markdown",
      "metadata": {
        "id": "wB1CXWSn4GrL"
      },
      "source": [
        "And then as a second example two nodes not having an active trail."
      ]
    },
    {
      "cell_type": "code",
      "metadata": {
        "colab": {
          "base_uri": "https://localhost:8080/"
        },
        "id": "dzrcMMey4GrM",
        "outputId": "f21d6536-6108-41a8-e658-cc7eb4790047"
      },
      "source": [
        "cdp_nact1 = 'Insomnia'\n",
        "cdp_nact2 = 'Emotional Shock'\n",
        "\n",
        "answer = {True:'Yes', False:'No'}\n",
        "print('Is there an active trail between {} and {}?\\n{}'.format(cdp_nact1,\n",
        "                                                               cdp_nact2,\n",
        "                                                               answer[model.is_active_trail(cdp_nact1, cdp_nact2)]))"
      ],
      "execution_count": 11,
      "outputs": [
        {
          "output_type": "stream",
          "name": "stdout",
          "text": [
            "Is there an active trail between Insomnia and Emotional Shock?\n",
            "No\n"
          ]
        }
      ]
    },
    {
      "cell_type": "markdown",
      "metadata": {
        "id": "-6OvS4RF4GrM"
      },
      "source": [
        "The absence of an active trail can be clearly seen by the graphical representation of the BN:<br>\n",
        "![](https://drive.google.com/uc?export=view&id=1cv-JF0xghPVZoyQ30WhMAdt27ZtLp6mH)"
      ]
    },
    {
      "cell_type": "markdown",
      "metadata": {
        "id": "kPNMvTQ64GrN"
      },
      "source": [
        "Since we are in presence of a V-structure (common evidence) in order to have an active trail between Insomnia and Emotional Shock the R.V. Suicide has to be taken as observed."
      ]
    },
    {
      "cell_type": "code",
      "metadata": {
        "colab": {
          "base_uri": "https://localhost:8080/"
        },
        "id": "LYjPHx8x4GrN",
        "outputId": "fcd5ed27-72a2-44e3-d524-3e57e3a5fc5b"
      },
      "source": [
        "observed_var = 'Suicide'\n",
        "\n",
        "print('Given Suicide is there an active trail between Insomnia and Emotional Shock?')\n",
        "answer = {True:'Yes', False:'No'}\n",
        "print(answer['Insomnia' in model.active_trail_nodes('Emotional Shock', observed=observed_var)['Emotional Shock']])"
      ],
      "execution_count": 12,
      "outputs": [
        {
          "output_type": "stream",
          "name": "stdout",
          "text": [
            "Given Suicide is there an active trail between Insomnia and Emotional Shock?\n",
            "Yes\n"
          ]
        }
      ]
    },
    {
      "cell_type": "markdown",
      "metadata": {
        "id": "GSg0aJW34GrO"
      },
      "source": [
        "# Local Indipendence\n",
        "The concept of local independence is tightly related to the concept of active trail.<br>\n",
        "In particular two nodes can be said to be independent iff there's no active trail between the two nodes given a set of observed nodes."
      ]
    },
    {
      "cell_type": "markdown",
      "metadata": {
        "id": "-lJDElvs4GrO"
      },
      "source": [
        "To get a single independence for a given node it can be run the following query:"
      ]
    },
    {
      "cell_type": "code",
      "metadata": {
        "scrolled": true,
        "colab": {
          "base_uri": "https://localhost:8080/"
        },
        "id": "EtGsiUtf4GrO",
        "outputId": "8cf8142e-c614-4b36-d010-af786f3ccb02"
      },
      "source": [
        "model.local_independencies('Depression')"
      ],
      "execution_count": 13,
      "outputs": [
        {
          "output_type": "execute_result",
          "data": {
            "text/plain": [
              "(Depression _|_ Relative Lost, Financial Problem, Break Up, Serious Ilness, Work/Study Pressure, Insomnia, Prior Stroke, Chronic Stress | No Friends & Family, Emotional Shock)"
            ]
          },
          "metadata": {},
          "execution_count": 13
        }
      ]
    },
    {
      "cell_type": "markdown",
      "metadata": {
        "id": "jikosYVh4GrP"
      },
      "source": [
        "To get all independecies for all the nodes it can be run the following query:"
      ]
    },
    {
      "cell_type": "code",
      "metadata": {
        "scrolled": true,
        "id": "JO0ShCHk4GrP"
      },
      "source": [
        "model.get_independencies()"
      ],
      "execution_count": null,
      "outputs": []
    },
    {
      "cell_type": "markdown",
      "metadata": {
        "id": "BJiQRnHp4GrQ"
      },
      "source": [
        "To get all the independencies of a node it can be done:"
      ]
    },
    {
      "cell_type": "code",
      "metadata": {
        "id": "gtYw3iRq4GrQ"
      },
      "source": [
        "from pgmpy.independencies.Independencies import Independencies\n",
        "\n",
        "ind_node = 'Depression'\n",
        "Independencies(*[ind for ind in model.get_independencies().get_assertions()\n",
        "                 if list(ind.event1)[0]==ind_node])"
      ],
      "execution_count": null,
      "outputs": []
    },
    {
      "cell_type": "markdown",
      "metadata": {
        "id": "6X7RTIuL4GrR"
      },
      "source": [
        "# Markov Blanket\n",
        "To define a Markov Blanket for a given node it's needed to take as observed its parents, children and its children's parents."
      ]
    },
    {
      "cell_type": "markdown",
      "metadata": {
        "id": "pfDhfMLj4GrR"
      },
      "source": [
        "As such to find a Markov Blanket for the node Depression we can do the following:"
      ]
    },
    {
      "cell_type": "code",
      "metadata": {
        "id": "97PKFvMW4GrR"
      },
      "source": [
        "def get_markov_blanket(node):\n",
        "    parents = model.get_parents(node=node)\n",
        "    children = model.get_children(node=node)\n",
        "    children_parents = []\n",
        "    for child in children:\n",
        "        children_parents = children_parents + model.get_parents(node=child)\n",
        "        \n",
        "    markov_b = set(parents + children + children_parents) - {node}\n",
        "    return list(markov_b)"
      ],
      "execution_count": 16,
      "outputs": []
    },
    {
      "cell_type": "code",
      "metadata": {
        "colab": {
          "base_uri": "https://localhost:8080/"
        },
        "id": "-o6_T8p14GrR",
        "outputId": "039f0742-91be-433b-d299-04e486b837f4"
      },
      "source": [
        "node_mrk = 'Depression'\n",
        "print('The Markov Blanket for {} is:\\n{}'.format(node_mrk, get_markov_blanket(node_mrk)))"
      ],
      "execution_count": 17,
      "outputs": [
        {
          "output_type": "stream",
          "name": "stdout",
          "text": [
            "The Markov Blanket for Depression is:\n",
            "['Emotional Shock', 'Suicide', 'No Friends & Family', 'Prior Stroke', 'Chronic Stress']\n"
          ]
        }
      ]
    },
    {
      "cell_type": "markdown",
      "metadata": {
        "id": "GXqgGQD74GrS"
      },
      "source": [
        "pgmpy already has a function to get the Markov blanket given a node:"
      ]
    },
    {
      "cell_type": "code",
      "metadata": {
        "colab": {
          "base_uri": "https://localhost:8080/"
        },
        "id": "Gwgill7f4GrS",
        "outputId": "64f859cb-a254-4664-9e5b-3e3a28f76391"
      },
      "source": [
        "print('The Markov Blanket for {} is:\\n{}'.format(node_mrk, model.get_markov_blanket(node_mrk)))"
      ],
      "execution_count": 18,
      "outputs": [
        {
          "output_type": "stream",
          "name": "stdout",
          "text": [
            "The Markov Blanket for Depression is:\n",
            "['Emotional Shock', 'Suicide', 'No Friends & Family', 'Prior Stroke', 'Chronic Stress']\n"
          ]
        }
      ]
    },
    {
      "cell_type": "markdown",
      "metadata": {
        "id": "VDDYkIAm4GrT"
      },
      "source": [
        "It can be observed that the two above definitions are coherent."
      ]
    },
    {
      "cell_type": "markdown",
      "metadata": {
        "id": "LREHS6a94GrT"
      },
      "source": [
        "Following it can be seen the graphical representation of the Markov Blanket defined above:<br>\n",
        "![](https://drive.google.com/uc?export=view&id=12S0LjtkgnUuoSZwXd2IQ-fJ75xr-E4gT)"
      ]
    },
    {
      "cell_type": "markdown",
      "metadata": {
        "id": "bHTbLBp44GrT"
      },
      "source": [
        "It can be shown that, given the Markov Blanket of a node, it achieves local indepencence with respect to all of the other nodes of the network."
      ]
    },
    {
      "cell_type": "code",
      "metadata": {
        "colab": {
          "base_uri": "https://localhost:8080/"
        },
        "id": "k0Wykrqg4GrU",
        "outputId": "c4cdbe2b-4eb7-4f9f-c2a1-a5272329997c"
      },
      "source": [
        "model.active_trail_nodes(node_mrk, observed=model.get_markov_blanket(node_mrk))[node_mrk] - {node_mrk}"
      ],
      "execution_count": 19,
      "outputs": [
        {
          "output_type": "execute_result",
          "data": {
            "text/plain": [
              "set()"
            ]
          },
          "metadata": {},
          "execution_count": 19
        }
      ]
    },
    {
      "cell_type": "markdown",
      "metadata": {
        "id": "K3Nugosc4GrU"
      },
      "source": [
        "# Exact Inference\n",
        "In this section are present some inference queries using the variable elimination method."
      ]
    },
    {
      "cell_type": "code",
      "metadata": {
        "id": "GgnOLD-v4GrU"
      },
      "source": [
        "from pgmpy.inference import VariableElimination\n",
        "infer = VariableElimination(model)"
      ],
      "execution_count": 20,
      "outputs": []
    },
    {
      "cell_type": "markdown",
      "metadata": {
        "id": "CAl6yL8-4GrW"
      },
      "source": [
        "In the following it's going to be inferred:<br>\n",
        "$ P(Suicice\\ |\\ Emotional\\ Shock=1,\\ Work/Study\\ Pressure=1,\\ Financial\\ Problem=0) $"
      ]
    },
    {
      "cell_type": "code",
      "metadata": {
        "colab": {
          "base_uri": "https://localhost:8080/"
        },
        "id": "QRaYEUW14GrW",
        "outputId": "f9680771-2c30-46a5-e69c-2d734ea45091"
      },
      "source": [
        "query = infer.query(variables=['Suicide'],\n",
        "                evidence={'Emotional Shock': 1, 'Work/Study Pressure':1, 'Financial Problem':0})\n",
        "print(query)"
      ],
      "execution_count": 21,
      "outputs": [
        {
          "output_type": "stream",
          "name": "stderr",
          "text": [
            "Finding Elimination Order: : 100%|██████████| 8/8 [00:00<00:00, 1271.72it/s]\n",
            "Eliminating: Chronic Stress: 100%|██████████| 8/8 [00:00<00:00, 260.52it/s]"
          ]
        },
        {
          "output_type": "stream",
          "name": "stdout",
          "text": [
            "+------------+----------------+\n",
            "| Suicide    |   phi(Suicide) |\n",
            "+============+================+\n",
            "| Suicide(0) |         0.2551 |\n",
            "+------------+----------------+\n",
            "| Suicide(1) |         0.7449 |\n",
            "+------------+----------------+\n"
          ]
        },
        {
          "output_type": "stream",
          "name": "stderr",
          "text": [
            "\n"
          ]
        }
      ]
    },
    {
      "cell_type": "markdown",
      "metadata": {
        "id": "Xj3KPvXu4GrX"
      },
      "source": [
        "$\n",
        "P(SU\\ |\\ es,\\ wsp,\\ \\neg fnp)\\ = \\\\\n",
        "\\alpha\\ \\sum _{dep} \\sum _{nff} \\sum _{bu} \\sum _{rl} \\sum _{cst} \\sum _{ins} \\sum _{ps} \\sum _{sil}\n",
        "P(SU\\ |\\ dep,\\ cst,\\ ps)\\cdot\n",
        "P(dep\\ |\\ es,\\ nff)\\cdot\n",
        "P(es\\ |\\ bu,\\ rl)\\cdot\n",
        "P(bu)\\cdot\n",
        "P(rl)\\cdot\n",
        "P(ins\\ |\\ cst)\\cdot\n",
        "P(cst\\ |\\ \\neg fnp,\\ wsp)\\cdot\n",
        "P(\\neg fnp)\\cdot\n",
        "P(wsp)\\cdot\n",
        "P(ps\\ |\\ sil)\\cdot\n",
        "P(sil)\n",
        "$\n",
        "<br><br>\n",
        "Then an ordering of the hidden variables has to be chosen (pgmpy by default uses an heuristic called Min-Fill) and the process of variable elimination is carried out.<br>\n",
        "Other considerations can be done about the presence of irrelevant variables, where an irrelevant variable for $ P(X\\ |\\ E) $ is $ Y \\notin Ancenstors(\\{ X\\} \\cup E) $ or if $Y$ is d-separated from $X$ by $E$.<br>\n",
        "Thus the following variables can be deemed to be irrelevant: **Break Up** and **Relative Lost** since they are d-separated from Suicide by Emotional Shock and **Insomnia** since it does not belong to the ancestral graph of neither Suicide nor of the given evidences.<br>\n",
        "Lastly it can be worth to notice that, being this Bayesian Network a polytree (there's only one path connecting every pair of nodes of the network), the process of exact inference should be fairly efficient."
      ]
    },
    {
      "cell_type": "markdown",
      "metadata": {
        "id": "8EQhWLEN4GrX"
      },
      "source": [
        "To effectively verify that the defined BN is a polytree it can be done the following:"
      ]
    },
    {
      "cell_type": "code",
      "metadata": {
        "colab": {
          "base_uri": "https://localhost:8080/"
        },
        "id": "04USXbpc4GrY",
        "outputId": "9c68727d-cf16-4f1d-98a3-65d45b60ab1d"
      },
      "source": [
        "from networkx.algorithms.tree.recognition import is_tree\n",
        "is_tree(model)"
      ],
      "execution_count": 22,
      "outputs": [
        {
          "output_type": "execute_result",
          "data": {
            "text/plain": [
              "True"
            ]
          },
          "metadata": {},
          "execution_count": 22
        }
      ]
    },
    {
      "cell_type": "markdown",
      "metadata": {
        "id": "o3CD3mzb4GrY"
      },
      "source": [
        "The following query will be on a joint probability distribution:<br>\n",
        "$ P(Suicide,\\ Depression\\ |\\ Relative\\ Lost=1,\\ Break\\ Up=0,\\ Chronic\\ Stress=1) $"
      ]
    },
    {
      "cell_type": "code",
      "metadata": {
        "scrolled": true,
        "colab": {
          "base_uri": "https://localhost:8080/"
        },
        "id": "skFk43nB4GrY",
        "outputId": "7e19b2a2-a6e0-4441-8f93-ee13b0acc076"
      },
      "source": [
        "query = infer.query(variables=['Suicide','Depression'],\n",
        "                evidence={'Relative Lost':1, 'Break Up':0, 'Chronic Stress':1})\n",
        "print(query)"
      ],
      "execution_count": 23,
      "outputs": [
        {
          "output_type": "stream",
          "name": "stderr",
          "text": [
            "Finding Elimination Order: : 100%|██████████| 7/7 [00:00<00:00, 1560.71it/s]\n",
            "Eliminating: Serious Ilness: 100%|██████████| 7/7 [00:00<00:00, 273.47it/s]"
          ]
        },
        {
          "output_type": "stream",
          "name": "stdout",
          "text": [
            "+------------+---------------+---------------------------+\n",
            "| Suicide    | Depression    |   phi(Suicide,Depression) |\n",
            "+============+===============+===========================+\n",
            "| Suicide(0) | Depression(0) |                    0.1911 |\n",
            "+------------+---------------+---------------------------+\n",
            "| Suicide(0) | Depression(1) |                    0.0716 |\n",
            "+------------+---------------+---------------------------+\n",
            "| Suicide(1) | Depression(0) |                    0.1099 |\n",
            "+------------+---------------+---------------------------+\n",
            "| Suicide(1) | Depression(1) |                    0.6274 |\n",
            "+------------+---------------+---------------------------+\n"
          ]
        },
        {
          "output_type": "stream",
          "name": "stderr",
          "text": [
            "\n"
          ]
        }
      ]
    }
  ]
}